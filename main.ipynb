"cells": [
        {
            "cell_type": "markdown",
            "metadata": {},
            "source": [
                "# VK Friends Centrality Analysis\n",
                "This notebook uses VK API to retrieve friends data and visualize a graph of friends' connections.\n",
                "The graph is analyzed based on various centrality measures."
            ]
        },
        {
            "cell_type": "code",
            "execution_count": None,
            "metadata": {},
            "outputs": [],
            "source": [
                "!pip install requests networkx matplotlib"
            ]
        },
        {
            "cell_type": "code",
            "execution_count": None,
            "metadata": {},
            "outputs": [],
            "source": [
                "import requests\n",
                "import networkx as nx\n",
                "import matplotlib.pyplot as plt\n",
                "\n",
                "ACCESS_TOKEN = 'c79b0b65c79b0b65c79b0b659dc7e36f1ccc79bc79b0b65a743cc491d40249cc9a9b76a'\n",
                "VERSION = '5.131'\n",
                "\n",
                "usernames = ['gogo_where_i_go', 'lazyl3ones', 'stuntlove']\n",
                "\n",
                "FRIENDS_LIMIT = 100\n",
                "\n",
                "def get_user_ids(usernames):\n",
                "    url = f\"https://api.vk.com/method/users.get?user_ids={','.join(usernames)}&access_token={ACCESS_TOKEN}&v={VERSION}\"\n",
                "    response = requests.get(url)\n",
                "    data = response.json()\n",
                "    if 'error' in data:\n",
                "        print(\"Ошибка в запросе:\", data['error']['error_msg'])\n",
                "        return {}\n",
                "    return {user['id']: f\"{user['first_name']} {user['last_name']}\" for user in data.get('response', [])}\n",
                "\n",
                "def get_friends(user_id):\n",
                "    url = f\"https://api.vk.com/method/friends.get?user_id={user_id}&count={FRIENDS_LIMIT}&access_token={ACCESS_TOKEN}&v={VERSION}\"\n",
                "    response = requests.get(url)\n",
                "    data = response.json()\n",
                "    if 'error' in data:\n",
                "        print(f\"Ошибка при получении друзей для пользователя {user_id}: {data['error']['error_msg']}\")\n",
                "        return []\n",
                "    return data.get('response', {}).get('items', [])\n"
            ]
        },
        {
            "cell_type": "code",
            "execution_count": None,
            "metadata": {},
            "outputs": [],
            "source": [
                "user_ids = get_user_ids(usernames)\n",
                "if not user_ids:\n",
                "    print(\"Не удалось получить ID пользователей. Проверьте запросы.\")\n",
                "else:\n",
                "    print(\"User IDs:\", user_ids)\n",
                "\n",
                "    friends_data = {}\n",
                "    for user_id in user_ids:\n",
                "        friends = get_friends(user_id)\n",
                "        friends_data[user_id] = friends\n",
                "        print(f\"Friends of {user_ids[user_id]} (ID {user_id}): {friends}\")\n",
                "\n",
                "    G = nx.Graph()\n",
                "    for user_id, friends in friends_data.items():\n",
                "        for friend in friends:\n",
                "            G.add_edge(user_ids.get(user_id, user_id), friend)\n",
                "\n",
                "    if len(G.edges()) > 0:\n",
                "        eigenvector = nx.eigenvector_centrality(G)\n",
                "        closeness = nx.closeness_centrality(G)\n",
                "        betweenness = nx.betweenness_centrality(G)\n",
                "\n",
                "        group_members = {user_ids[user_id] for user_id in user_ids}\n",
                "        group_eigenvector = {node: eigenvector[node] for node in group_members}\n",
                "        group_closeness = {node: closeness[node] for node in group_members}\n",
                "        group_betweenness = {node: betweenness[node] for node in group_members}\n",
                "\n",
                "        plt.figure(figsize=(12, 10))\n",
                "        node_colors = [group_eigenvector.get(node, 0.1) for node in G.nodes()]\n",
                "        node_sizes = [2000 * group_closeness.get(node, 0.1) for node in G.nodes()]\n",
                "        pos = nx.spring_layout(G, k=0.6, seed=42)\n",
                "        nx.draw(G, pos, with_labels=False, node_color=node_colors, node_size=node_sizes,\n",
                "                cmap=plt.cm.RdYlBu, edge_color=\"gray\", alpha=0.7)\n",
                "        labels = {node: node for node in group_members}\n",
                "        nx.draw_networkx_labels(G, pos, labels, font_size=12, font_weight='bold', font_color='black')\n",
                "        plt.title(\"Граф друзей (выделены члены группы)\")\n",
                "        plt.show()\n",
                "\n",
                "        print(\"Eigenvector Centrality for Group Members:\", group_eigenvector)\n",
                "        print(\"Closeness Centrality for Group Members:\", group_closeness)\n",
                "        print(\"Betweenness Centrality for Group Members:\", group_betweenness)\n",
                "    else:\n",
                "        print(\"Граф пустой, нет данных для оценки центральностей.\")\n"
            ]
        }
    ],
    "metadata": {
        "kernelspec": {
            "display_name": "Python 3",
            "language": "python",
            "name": "python3"
        },
        "language_info": {
            "name": "python"
        }
    },
    "nbformat": 4,
    "nbformat_minor": 4
}
