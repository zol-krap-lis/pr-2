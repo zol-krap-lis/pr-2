{
  "cells": [
    {
      "cell_type": "markdown",
      "source": [
        "# Генерация id"
      ],
      "metadata": {
        "id": "9TER7wje407j"
      }
    },
    {
      "cell_type": "code",
      "source": [
        "import vk_api\n",
        "import time\n",
        "import os\n",
        "\n",
        "def authorize(token):\n",
        "    session = vk_api.VkApi(token=token)\n",
        "    return session.get_api()\n",
        "\n",
        "def load_ids_from_file(file_path):\n",
        "    if os.path.exists(file_path):\n",
        "        with open(file_path, 'r') as file:\n",
        "            return [line.strip() for line in file if line.strip()]\n",
        "    return []\n",
        "\n",
        "def update_file_if_needed(file_path, new_data):\n",
        "    current_data = load_ids_from_file(file_path)\n",
        "    if set(current_data) != set(new_data):\n",
        "        with open(file_path, 'w') as file:\n",
        "            file.writelines(f\"{item}\\n\" for item in sorted(new_data))\n",
        "        print(f\"Файл {file_path} обновлён.\")\n",
        "        return True\n",
        "    else:\n",
        "        print(f\"Файл {file_path} не изменился.\")\n",
        "        return False\n",
        "\n",
        "def get_friends(vk, user_id):\n",
        "    try:\n",
        "        friends = vk.friends.get(user_id=user_id, fields=\"domain\")[\"items\"]\n",
        "        return [friend[\"id\"] for friend in friends]\n",
        "    except vk_api.exceptions.ApiError as e:\n",
        "        print(f\"Ошибка при получении друзей пользователя {user_id}: {e}\")\n",
        "        return []\n",
        "\n",
        "def generate_levels(vk, lvl0_ids, output_dir, max_depth=2):\n",
        "    levels = {0: lvl0_ids}\n",
        "\n",
        "    for depth in range(1, max_depth + 1):\n",
        "        levels[depth] = []\n",
        "        for user_id in levels[depth - 1]:\n",
        "            friends = get_friends(vk, user_id)\n",
        "            levels[depth].extend(friends)\n",
        "            time.sleep(0.3)\n",
        "\n",
        "        levels[depth] = list(set(levels[depth]))\n",
        "        update_file_if_needed(os.path.join(output_dir, f\"lvl{depth}.txt\"), levels[depth])\n",
        "\n",
        "    return levels\n",
        "\n",
        "def update_all_edges_file(output_dir, levels):\n",
        "    edges = []\n",
        "    for depth in range(1, len(levels)):\n",
        "        for user_id in levels[depth - 1]:\n",
        "            for friend in levels[depth]:\n",
        "                edges.append(f\"{user_id},{friend}\")\n",
        "\n",
        "    file_path = os.path.join(output_dir, \"all_edges.txt\")\n",
        "    update_file_if_needed(file_path, edges)\n",
        "\n",
        "def main():\n",
        "    token = \"c79b0b65c79b0b65c79b0b659dc7e36f1ccc79bc79b0b65a743cc491d40249cc9a9b76a\"\n",
        "    lvl0_file = \"/content/lvl0.txt\"\n",
        "    output_dir = \"/content/output\"\n",
        "\n",
        "    os.makedirs(output_dir, exist_ok=True)\n",
        "    vk = authorize(token)\n",
        "    lvl0_ids = load_ids_from_file(lvl0_file)\n",
        "    levels = generate_levels(vk, lvl0_ids, output_dir, max_depth=2)\n",
        "    update_all_edges_file(output_dir, levels)\n",
        "\n",
        "main()\n"
      ],
      "metadata": {
        "id": "e0GN7zeO3LxE"
      },
      "execution_count": null,
      "outputs": []
    },
    {
      "cell_type": "markdown",
      "source": [
        "# Создание html файла графа"
      ],
      "metadata": {
        "id": "G_T0UEt05AU_"
      }
    },
    {
      "cell_type": "code",
      "source": [
        "import networkx as nx\n",
        "from pyvis.network import Network\n",
        "import random\n",
        "\n",
        "# Функция для чтения данных из файла\n",
        "def load_data(file_path):\n",
        "    with open(file_path, 'r') as file:\n",
        "        lines = [line.strip() for line in file if line.strip()]\n",
        "    return lines\n",
        "\n",
        "# Построение трёхуровневого графа\n",
        "def build_three_level_graph(lvl0, lvl1, lvl2, max_edges=100):\n",
        "    G = nx.DiGraph()  # Ориентированный граф\n",
        "    edges = []\n",
        "\n",
        "    # Связи между уровнями 0 и 1\n",
        "    for node0 in lvl0:\n",
        "        connected_nodes = random.sample(lvl1, min(len(lvl1), 5))  # Связать максимум с 5 узлами\n",
        "        edges.extend([(node0, node1) for node1 in connected_nodes])\n",
        "\n",
        "    # Связи между уровнями 1 и 2\n",
        "    for node1 in lvl1:\n",
        "        connected_nodes = random.sample(lvl2, min(len(lvl2), 5))  # Связать максимум с 5 узлами\n",
        "        edges.extend([(node1, node2) for node2 in connected_nodes])\n",
        "\n",
        "    # Перемешиваем и ограничиваем количество рёбер\n",
        "    random.shuffle(edges)\n",
        "    edges = edges[:max_edges]\n",
        "\n",
        "    # Добавляем рёбра в граф\n",
        "    G.add_edges_from(edges)\n",
        "    return G\n",
        "\n",
        "# Визуализация графа в HTML\n",
        "def visualize_graph_html(graph, output_file=\"graph.html\"):\n",
        "    net = Network(notebook=True, width=\"1000px\", height=\"800px\", directed=True, cdn_resources=\"remote\")\n",
        "    net.from_nx(graph)\n",
        "\n",
        "    # Настройка физики графа\n",
        "    net.set_options('''\n",
        "    var options = {\n",
        "      \"physics\": {\n",
        "        \"barnesHut\": {\n",
        "          \"gravitationalConstant\": -2000,\n",
        "          \"centralGravity\": 0.3,\n",
        "          \"springLength\": 95,\n",
        "          \"springConstant\": 0.04,\n",
        "          \"damping\": 0.09\n",
        "        }\n",
        "      }\n",
        "    }\n",
        "    ''')\n",
        "\n",
        "    # Сохранение графа в HTML\n",
        "    net.show(output_file)\n",
        "    print(f\"Граф сохранён в {output_file}\")\n",
        "\n",
        "# Основной процесс\n",
        "def main():\n",
        "    # Пути к файлам\n",
        "    lvl0_file = \"/content/output/lvl0.txt\"\n",
        "    lvl1_file = \"/content/output/lvl1.txt\"\n",
        "    lvl2_file = \"/content/output/lvl2.txt\"\n",
        "    html_output = \"/content/output/graph.html\"\n",
        "\n",
        "    # Загрузка данных из файлов\n",
        "    lvl0 = load_data(lvl0_file)\n",
        "    lvl1 = load_data(lvl1_file)\n",
        "    lvl2 = load_data(lvl2_file)\n",
        "\n",
        "    # Построение трёхуровневого графа\n",
        "    graph = build_three_level_graph(lvl0, lvl1, lvl2, max_edges=100)\n",
        "\n",
        "    # Визуализация графа\n",
        "    visualize_graph_html(graph, html_output)\n",
        "\n",
        "main()\n"
      ],
      "metadata": {
        "id": "OATqXvPd1F-P",
        "outputId": "8f34e77e-8f65-4fed-fdfd-8b08cb02d367",
        "colab": {
          "base_uri": "https://localhost:8080/"
        }
      },
      "execution_count": 22,
      "outputs": [
        {
          "output_type": "stream",
          "name": "stdout",
          "text": [
            "/content/output/graph.html\n",
            "Граф сохранён в /content/output/graph.html\n"
          ]
        }
      ]
    }
  ],
  "metadata": {
    "kernelspec": {
      "display_name": "Python 3",
      "language": "python",
      "name": "python3"
    },
    "language_info": {
      "name": "python"
    },
    "colab": {
      "provenance": []
    }
  },
  "nbformat": 4,
  "nbformat_minor": 0
}